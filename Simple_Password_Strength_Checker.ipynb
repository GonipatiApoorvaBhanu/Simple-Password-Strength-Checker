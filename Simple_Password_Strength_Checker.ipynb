{
  "nbformat": 4,
  "nbformat_minor": 0,
  "metadata": {
    "colab": {
      "provenance": []
    },
    "kernelspec": {
      "name": "python3",
      "display_name": "Python 3"
    },
    "language_info": {
      "name": "python"
    }
  },
  "cells": [
    {
      "cell_type": "code",
      "execution_count": 3,
      "metadata": {
        "colab": {
          "base_uri": "https://localhost:8080/"
        },
        "id": "gU5-6K_1kWIJ",
        "outputId": "e1396dc7-052a-4950-9755-118ec9a0b070"
      },
      "outputs": [
        {
          "output_type": "stream",
          "name": "stdout",
          "text": [
            "Enter Password:b4poorvA@2910\n",
            "Strong password\n"
          ]
        }
      ],
      "source": [
        "import re\n",
        "\n",
        "def check_password_strength(password):\n",
        "    if len(password) < 8:\n",
        "        return \"Weak: Too short\"\n",
        "    if not re.search(r\"[A-Z]\", password):\n",
        "        return \"Weak: Missing uppercase letter\"\n",
        "    if not re.search(r\"[a-z]\", password):\n",
        "        return \"Weak: Missing lowercase letter\"\n",
        "    if not re.search(r\"[0-9]\", password):\n",
        "        return \"Weak: Missing a digit\"\n",
        "    if not re.search(r\"[!@#$%^&*(),.?\\\":{}|<>]\", password):\n",
        "        return \"Weak: Missing special character\"\n",
        "    return \"Strong password\"\n",
        "password = input(\"Enter Password:\")\n",
        "print(check_password_strength(password))\n"
      ]
    }
  ]
}